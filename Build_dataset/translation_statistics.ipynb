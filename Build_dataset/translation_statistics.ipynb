{
  "nbformat": 4,
  "nbformat_minor": 0,
  "metadata": {
    "kernelspec": {
      "display_name": "Python 3",
      "language": "python",
      "name": "python3"
    },
    "language_info": {
      "codemirror_mode": {
        "name": "ipython",
        "version": 3
      },
      "file_extension": ".py",
      "mimetype": "text/x-python",
      "name": "python",
      "nbconvert_exporter": "python",
      "pygments_lexer": "ipython3",
      "version": "3.6.10"
    },
    "colab": {
      "name": "translation statistics.ipynb",
      "provenance": []
    }
  },
  "cells": [
    {
      "cell_type": "code",
      "metadata": {
        "id": "WUxoaEYZ0Lm-"
      },
      "source": [
        "import json"
      ],
      "execution_count": 1,
      "outputs": []
    },
    {
      "cell_type": "code",
      "metadata": {
        "colab": {
          "base_uri": "https://localhost:8080/"
        },
        "id": "WyrBPmIh0W4h",
        "outputId": "472e8314-89d1-44f0-fd7a-bc54bd2c6c1e"
      },
      "source": [
        "!gdown https://drive.google.com/uc?id=1Bpgd69hFI9QuUIqk1sAd7X3SdwJ7iMmz&export=download\r\n",
        "!unzip english.zip"
      ],
      "execution_count": 2,
      "outputs": [
        {
          "output_type": "stream",
          "text": [
            "Downloading...\n",
            "From: https://drive.google.com/uc?id=1Bpgd69hFI9QuUIqk1sAd7X3SdwJ7iMmz\n",
            "To: /content/english.zip\n",
            "52.3MB [00:00, 101MB/s] \n",
            "Archive:  english.zip\n",
            "  inflating: english/relx_distant_rel2id.json  \n",
            "  inflating: english/test.txt        \n",
            "  inflating: english/train.txt       \n",
            "  inflating: english/val.txt         \n"
          ],
          "name": "stdout"
        }
      ]
    },
    {
      "cell_type": "code",
      "metadata": {
        "id": "XFrY3OZr0LnE"
      },
      "source": [
        "# languages = [\"english\",\"french\",\"german\",\"spanish\",\"turkish\"]\n",
        "languages = [\"english\"]\n",
        "splits = ['train','val','test']\n",
        "\n",
        "datasets = {}\n",
        "for a in splits:\n",
        "    datasets[a]={}\n",
        "    for lang in languages:\n",
        "        \n",
        "        datasets[a][lang] = {}\n",
        "\n",
        "\n",
        "\n"
      ],
      "execution_count": 9,
      "outputs": []
    },
    {
      "cell_type": "code",
      "metadata": {
        "colab": {
          "base_uri": "https://localhost:8080/"
        },
        "id": "ISWmcfsj0LnF",
        "outputId": "4d56ac6e-2a96-47ce-cbdb-d3bf8de3c4a0"
      },
      "source": [
        "datasets"
      ],
      "execution_count": 10,
      "outputs": [
        {
          "output_type": "execute_result",
          "data": {
            "text/plain": [
              "{'test': {'english': {}}, 'train': {'english': {}}, 'val': {'english': {}}}"
            ]
          },
          "metadata": {
            "tags": []
          },
          "execution_count": 10
        }
      ]
    },
    {
      "cell_type": "code",
      "metadata": {
        "id": "Jr3WWuCY0LnG"
      },
      "source": [
        "from tqdm import tqdm"
      ],
      "execution_count": 11,
      "outputs": []
    },
    {
      "cell_type": "code",
      "metadata": {
        "colab": {
          "base_uri": "https://localhost:8080/"
        },
        "id": "RK02HNQL04Uh",
        "outputId": "01dd3bcf-acd0-47d0-8841-099f7677b742"
      },
      "source": [
        "for lang in languages:\r\n",
        "    for x in datasets:\r\n",
        "\r\n",
        "        path = lang + \"/\" + x+'.txt'\r\n",
        "\r\n",
        "        file_eng = open(path,\"r\")\r\n",
        "\r\n",
        "\r\n",
        "        for line in tqdm(file_eng):\r\n",
        "            l=json.loads(line)\r\n",
        "            if l[\"relation\"] in datasets[x][lang]:\r\n",
        "              datasets[x][lang][l[\"relation\"]].append(line)\r\n",
        "            else:\r\n",
        "              datasets[x][lang][l[\"relation\"]]=[line]"
      ],
      "execution_count": 12,
      "outputs": [
        {
          "output_type": "stream",
          "text": [
            "535979it [00:05, 93165.86it/s] \n",
            "163449it [00:01, 89893.09it/s]\n",
            "70898it [00:00, 98119.97it/s] \n"
          ],
          "name": "stderr"
        }
      ]
    },
    {
      "cell_type": "code",
      "metadata": {
        "colab": {
          "base_uri": "https://localhost:8080/"
        },
        "id": "TrnTJNuK17q7",
        "outputId": "42884bf4-6843-40c1-d646-3dfc71eb2f8f"
      },
      "source": [
        "len(datasets['test']['english']['mother'])"
      ],
      "execution_count": 15,
      "outputs": [
        {
          "output_type": "execute_result",
          "data": {
            "text/plain": [
              "43"
            ]
          },
          "metadata": {
            "tags": []
          },
          "execution_count": 15
        }
      ]
    },
    {
      "cell_type": "code",
      "metadata": {
        "id": "p3mFpKwW0LnH"
      },
      "source": [
        "from itertools import combinations "
      ],
      "execution_count": null,
      "outputs": []
    },
    {
      "cell_type": "code",
      "metadata": {
        "id": "mYiNv5Sf0LnH"
      },
      "source": [
        "langpairs = list(combinations(languages,2))"
      ],
      "execution_count": null,
      "outputs": []
    },
    {
      "cell_type": "code",
      "metadata": {
        "id": "keIUzVwD0LnH",
        "outputId": "04b1ada8-495a-4572-d028-3c9c464cdc70"
      },
      "source": [
        "for lang1,lang2 in langpairs:\n",
        "    print(lang1+\" test and \"+lang2+\" train:\",len(datasets['test'][lang1].intersection(datasets['train'][lang2])))\n",
        "for lang in languages:\n",
        "    print(lang+\" test and \"+lang+\" train:\",len(datasets['test'][lang].intersection(datasets['train'][lang])))\n",
        "for lang in languages:\n",
        "    print(\"total test bags in language \"+lang+\" :\",len(datasets['test'][lang].intersection(datasets['test'][lang])))"
      ],
      "execution_count": null,
      "outputs": [
        {
          "output_type": "stream",
          "text": [
            "english test and french train: 1836\n",
            "english test and german train: 1766\n",
            "english test and spanish train: 1361\n",
            "english test and turkish train: 288\n",
            "french test and german train: 1682\n",
            "french test and spanish train: 1255\n",
            "french test and turkish train: 311\n",
            "german test and spanish train: 1120\n",
            "german test and turkish train: 277\n",
            "spanish test and turkish train: 274\n",
            "english test and english train: 0\n",
            "french test and french train: 0\n",
            "german test and german train: 0\n",
            "spanish test and spanish train: 0\n",
            "turkish test and turkish train: 0\n",
            "total test bags in language english : 7405\n",
            "total test bags in language french : 5786\n",
            "total test bags in language german : 6716\n",
            "total test bags in language spanish : 3745\n",
            "total test bags in language turkish : 604\n"
          ],
          "name": "stdout"
        }
      ]
    },
    {
      "cell_type": "code",
      "metadata": {
        "id": "RaJ98v_K0LnH"
      },
      "source": [
        ""
      ],
      "execution_count": null,
      "outputs": []
    }
  ]
}